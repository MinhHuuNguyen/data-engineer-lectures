{
 "cells": [
  {
   "cell_type": "code",
   "execution_count": 1,
   "metadata": {},
   "outputs": [],
   "source": [
    "import csv\n",
    "import sqlite3"
   ]
  },
  {
   "cell_type": "code",
   "execution_count": 2,
   "metadata": {},
   "outputs": [],
   "source": [
    "db_name = \"bank.db\""
   ]
  },
  {
   "cell_type": "code",
   "execution_count": 3,
   "metadata": {},
   "outputs": [],
   "source": [
    "def create_table(query_drop_table, query_create_table, db_name=db_name):\n",
    "    connection = sqlite3.connect(db_name)\n",
    "    cursor = connection.cursor()\n",
    "    cursor.execute(query_drop_table)\n",
    "    print(query_create_table)\n",
    "    cursor.execute(query_create_table)\n",
    "    connection.commit()\n",
    "    connection.close()\n"
   ]
  },
  {
   "cell_type": "code",
   "execution_count": 4,
   "metadata": {},
   "outputs": [],
   "source": [
    "def insert_into_table(query_insert_table, csv_path, db_name=db_name):\n",
    "    connection = sqlite3.connect(db_name)\n",
    "    cursor = connection.cursor()\n",
    "\n",
    "    with open(csv_path, \"r\") as file:\n",
    "        reader = csv.reader(file)\n",
    "        next(reader, None)  # skip the headers\n",
    "        for _, row in enumerate(reader):\n",
    "            cursor.execute(query_insert_table, [*row])\n",
    "\n",
    "    connection.commit()\n",
    "    connection.close()\n"
   ]
  },
  {
   "cell_type": "code",
   "execution_count": 5,
   "metadata": {},
   "outputs": [],
   "source": [
    "def select_from_table(query_select_table, db_name=db_name):\n",
    "    connection = sqlite3.connect(db_name)\n",
    "    cursor = connection.cursor()\n",
    "    cursor.execute(query_select_table)\n",
    "    return cursor.fetchall()"
   ]
  },
  {
   "cell_type": "code",
   "execution_count": 6,
   "metadata": {},
   "outputs": [],
   "source": [
    "def prepare_table(query_drop_table, query_create_table, query_insert, csv_path):\n",
    "    create_table(query_drop_table, query_create_table)\n",
    "    insert_into_table(query_insert, csv_path)"
   ]
  },
  {
   "cell_type": "code",
   "execution_count": 7,
   "metadata": {},
   "outputs": [
    {
     "name": "stdout",
     "output_type": "stream",
     "text": [
      "\n",
      "    CREATE TABLE IF NOT EXISTS accounts (\n",
      "        AccountID TEXT,\n",
      "        CustomerID TEXT,\n",
      "        HasCard BOOLEAN,\n",
      "        OnlineChannel TEXT,\n",
      "        EWalletConnected BOOLEAN\n",
      "    );\n",
      "\n"
     ]
    }
   ],
   "source": [
    "query_drop_accounts_table = \"DROP TABLE IF EXISTS accounts;\"\n",
    "query_create_accounts_table = \"\"\"\n",
    "    CREATE TABLE IF NOT EXISTS accounts (\n",
    "        AccountID TEXT,\n",
    "        CustomerID TEXT,\n",
    "        HasCard BOOLEAN,\n",
    "        OnlineChannel TEXT,\n",
    "        EWalletConnected BOOLEAN\n",
    "    );\n",
    "\"\"\"\n",
    "query_insert_accounts = \"\"\"\n",
    "    INSERT INTO accounts (AccountID, CustomerID, HasCard, OnlineChannel, EWalletConnected)\n",
    "    VALUES (?, ?, ?, ?, ?);\n",
    "\"\"\"\n",
    "query_select_accounts = \"SELECT * FROM accounts LIMIT 5;\"\n",
    "query_schema_accounts = \"PRAGMA table_info('accounts');\"\n",
    "csv_path_accounts = \"./data/accounts.csv\"\n",
    "\n",
    "prepare_table(\n",
    "    query_drop_accounts_table,\n",
    "    query_create_accounts_table,\n",
    "    query_insert_accounts,\n",
    "    csv_path_accounts\n",
    ")"
   ]
  },
  {
   "cell_type": "code",
   "execution_count": 8,
   "metadata": {},
   "outputs": [
    {
     "name": "stdout",
     "output_type": "stream",
     "text": [
      "\n",
      "    CREATE TABLE IF NOT EXISTS cards (\n",
      "        CardID TEXT,\n",
      "        AccountID TEXT,\n",
      "        CardType TEXT,\n",
      "        UsageType TEXT\n",
      "    );\n",
      "\n"
     ]
    }
   ],
   "source": [
    "query_drop_cards_table = \"DROP TABLE IF EXISTS cards;\"\n",
    "query_create_cards_table = \"\"\"\n",
    "    CREATE TABLE IF NOT EXISTS cards (\n",
    "        CardID TEXT,\n",
    "        AccountID TEXT,\n",
    "        CardType TEXT,\n",
    "        UsageType TEXT\n",
    "    );\n",
    "\"\"\"\n",
    "query_insert_cards = \"\"\"\n",
    "    INSERT INTO cards (CardID, AccountID, CardType, UsageType)\n",
    "    VALUES (?, ?, ?, ?);\n",
    "\"\"\"\n",
    "query_select_cards = \"SELECT * FROM cards LIMIT 5;\"\n",
    "query_schema_cards = \"PRAGMA table_info('cards');\"\n",
    "csv_path_cards = \"./data/cards.csv\"\n",
    "\n",
    "prepare_table(\n",
    "    query_drop_cards_table,\n",
    "    query_create_cards_table,\n",
    "    query_insert_cards,\n",
    "    csv_path_cards\n",
    ")"
   ]
  },
  {
   "cell_type": "code",
   "execution_count": 9,
   "metadata": {},
   "outputs": [
    {
     "name": "stdout",
     "output_type": "stream",
     "text": [
      "\n",
      "    CREATE TABLE IF NOT EXISTS customers (\n",
      "        CustomerID TEXT,\n",
      "        CustomerType TEXT,\n",
      "        BranchID INT\n",
      "    );\n",
      "\n"
     ]
    }
   ],
   "source": [
    "query_drop_customers_table = \"DROP TABLE IF EXISTS customers;\"\n",
    "query_create_customers_table = \"\"\"\n",
    "    CREATE TABLE IF NOT EXISTS customers (\n",
    "        CustomerID TEXT,\n",
    "        CustomerType TEXT,\n",
    "        BranchID INT\n",
    "    );\n",
    "\"\"\"\n",
    "query_insert_customers = \"\"\"\n",
    "    INSERT INTO customers (CustomerID, CustomerType, BranchID)\n",
    "    VALUES (?, ?, ?);\n",
    "\"\"\"\n",
    "query_select_customers = \"SELECT * FROM customers LIMIT 5;\"\n",
    "query_schema_customers = \"PRAGMA table_info('customers');\"\n",
    "csv_path_customers = \"./data/customers.csv\"\n",
    "\n",
    "prepare_table(\n",
    "    query_drop_customers_table,\n",
    "    query_create_customers_table,\n",
    "    query_insert_customers,\n",
    "    csv_path_customers\n",
    ")"
   ]
  },
  {
   "cell_type": "code",
   "execution_count": 10,
   "metadata": {},
   "outputs": [
    {
     "name": "stdout",
     "output_type": "stream",
     "text": [
      "\n",
      "    CREATE TABLE IF NOT EXISTS loans (\n",
      "        LoanID TEXT,\n",
      "        CustomerID TEXT,\n",
      "        LoanTypeID INT,\n",
      "        BranchID INT,\n",
      "        LoanAmount REAL\n",
      "    );\n",
      "\n"
     ]
    }
   ],
   "source": [
    "query_drop_loans_table = \"DROP TABLE IF EXISTS loans;\"\n",
    "query_create_loans_table = \"\"\"\n",
    "    CREATE TABLE IF NOT EXISTS loans (\n",
    "        LoanID TEXT,\n",
    "        CustomerID TEXT,\n",
    "        LoanTypeID INT,\n",
    "        BranchID INT,\n",
    "        LoanAmount REAL\n",
    "    );\n",
    "\"\"\"\n",
    "query_insert_loans = \"\"\"\n",
    "    INSERT INTO loans (LoanID, CustomerID, LoanTypeID, BranchID, LoanAmount)\n",
    "    VALUES (?, ?, ?, ?, ?);\n",
    "\"\"\"\n",
    "query_select_loans = \"SELECT * FROM loans LIMIT 5;\"\n",
    "query_schema_loans = \"PRAGMA table_info('loans');\"\n",
    "csv_path_loans = \"./data/loans.csv\"\n",
    "\n",
    "prepare_table(\n",
    "    query_drop_loans_table,\n",
    "    query_create_loans_table,\n",
    "    query_insert_loans,\n",
    "    csv_path_loans\n",
    ")"
   ]
  },
  {
   "cell_type": "code",
   "execution_count": 11,
   "metadata": {},
   "outputs": [
    {
     "name": "stdout",
     "output_type": "stream",
     "text": [
      "\n",
      "    CREATE TABLE IF NOT EXISTS transactions (\n",
      "        TransactionID TEXT,\n",
      "        AccountID TEXT,\n",
      "        Amount REAL,\n",
      "        TransactionChannel TEXT,\n",
      "        TransactionType TEXT\n",
      "    );\n",
      "\n"
     ]
    }
   ],
   "source": [
    "query_drop_transactions_table = \"DROP TABLE IF EXISTS transactions;\"\n",
    "query_create_transactions_table = \"\"\"\n",
    "    CREATE TABLE IF NOT EXISTS transactions (\n",
    "        TransactionID TEXT,\n",
    "        AccountID TEXT,\n",
    "        Amount REAL,\n",
    "        TransactionChannel TEXT,\n",
    "        TransactionType TEXT\n",
    "    );\n",
    "\"\"\"\n",
    "query_insert_transactions = \"\"\"\n",
    "    INSERT INTO transactions (TransactionID, AccountID, Amount, TransactionChannel, TransactionType)\n",
    "    VALUES (?, ?, ?, ?, ?);\n",
    "\"\"\"\n",
    "query_select_transactions = \"SELECT * FROM transactions LIMIT 5;\"\n",
    "query_schema_transactions = \"PRAGMA table_info('transactions');\"\n",
    "csv_path_transactions = \"./data/transactions.csv\"\n",
    "\n",
    "prepare_table(\n",
    "    query_drop_transactions_table,\n",
    "    query_create_transactions_table,\n",
    "    query_insert_transactions,\n",
    "    csv_path_transactions\n",
    ")"
   ]
  },
  {
   "cell_type": "code",
   "execution_count": 12,
   "metadata": {},
   "outputs": [],
   "source": [
    "def check_table(query_select, query_schema):\n",
    "    print(select_from_table(query_select))\n",
    "    print(select_from_table(query_schema))"
   ]
  },
  {
   "cell_type": "code",
   "execution_count": 13,
   "metadata": {},
   "outputs": [
    {
     "name": "stdout",
     "output_type": "stream",
     "text": [
      "[('a8cdf44d-7b74-4440-97db-4c2f1e158e2f', 'bdd640fb-0667-4ad1-9c80-317fa3b1799d', 'FALSE', 'Branch', 'TRUE'), ('8a0ea57a-9a7d-409d-a6e8-790b215d3b1f', '23b8c1e9-3924-46de-beb1-3b9046685257', 'TRUE', 'Telesales', 'FALSE'), ('f00f63ef-e59f-41c2-804e-a81ad3d877a8', '23b8c1e9-3924-46de-beb1-3b9046685257', 'TRUE', 'Telesales', 'FALSE'), ('6e76936a-a634-4d1a-adb6-10f4c65de86e', '23b8c1e9-3924-46de-beb1-3b9046685257', 'TRUE', 'Branch', 'FALSE'), ('dff47c51-5ed1-4e7f-abb1-f2bc85a4b0cb', 'bd9c66b3-ad3c-4d6d-9a3d-1fa7bc8960a9', 'FALSE', 'Telesales', 'TRUE')]\n",
      "[(0, 'AccountID', 'TEXT', 0, None, 0), (1, 'CustomerID', 'TEXT', 0, None, 0), (2, 'HasCard', 'BOOLEAN', 0, None, 0), (3, 'OnlineChannel', 'TEXT', 0, None, 0), (4, 'EWalletConnected', 'BOOLEAN', 0, None, 0)]\n",
      "[('be901a64-a0cc-4d31-8e22-efcfd02b4c3a', '8a0ea57a-9a7d-409d-a6e8-790b215d3b1f', 'Virtual', 'Credit'), ('e8780458-ab48-406d-ae8a-457fc712cf67', '8a0ea57a-9a7d-409d-a6e8-790b215d3b1f', 'Virtual', 'Domestic'), ('2e44d349-9122-4311-b74e-5dff06906169', 'f00f63ef-e59f-41c2-804e-a81ad3d877a8', 'Virtual', 'Debit'), ('5436deb3-f229-437b-a169-d799062e5424', '6e76936a-a634-4d1a-adb6-10f4c65de86e', 'Primary', 'Domestic'), ('69824369-ebb1-4253-8ad2-a7ba194b3b6e', '6dd013f3-87a2-4e22-b298-b8110b1ec578', 'Virtual', 'Debit')]\n",
      "[(0, 'CardID', 'TEXT', 0, None, 0), (1, 'AccountID', 'TEXT', 0, None, 0), (2, 'CardType', 'TEXT', 0, None, 0), (3, 'UsageType', 'TEXT', 0, None, 0)]\n",
      "[('bdd640fb-0667-4ad1-9c80-317fa3b1799d', 'Business', 1), ('23b8c1e9-3924-46de-beb1-3b9046685257', 'Individual', 4), ('bd9c66b3-ad3c-4d6d-9a3d-1fa7bc8960a9', 'Business', 3), ('972a8469-1641-4f82-8b9d-2434e465e150', 'Business', 9), ('17fc695a-07a0-4a6e-8822-e8f36c031199', 'Business', 10)]\n",
      "[(0, 'CustomerID', 'TEXT', 0, None, 0), (1, 'CustomerType', 'TEXT', 0, None, 0), (2, 'BranchID', 'INT', 0, None, 0)]\n",
      "[('3310ef8a-6ef4-4d51-bede-913b24942e1e', 'bdd640fb-0667-4ad1-9c80-317fa3b1799d', 2, 1, 40043.9), ('b3e9ea93-f384-4022-83e7-95a1409dac31', '972a8469-1641-4f82-8b9d-2434e465e150', 5, 9, 18956.66), ('53327e78-4951-4de8-bbfd-1a8535c52137', '17fc695a-07a0-4a6e-8822-e8f36c031199', 3, 10, 40137.99), ('0d33eccc-7bf4-4e92-a6d5-e062c96f08b6', 'b74d0fb1-32e7-4629-8fad-c1a606cb0fb3', 5, 2, 14900.08), ('6bd0d0e5-b47c-4c46-bf5c-924ddd11279d', '6c307511-b2b9-437a-a8df-6ec4ce4a2bbd', 4, 4, 38210.02)]\n",
      "[(0, 'LoanID', 'TEXT', 0, None, 0), (1, 'CustomerID', 'TEXT', 0, None, 0), (2, 'LoanTypeID', 'INT', 0, None, 0), (3, 'BranchID', 'INT', 0, None, 0), (4, 'LoanAmount', 'REAL', 0, None, 0)]\n",
      "[('2977fb6e-29d2-45d6-8c03-b6d6f27eec3b', 'a8cdf44d-7b74-4440-97db-4c2f1e158e2f', 2831.72, 'Branch', 'Out'), ('f1bef588-9c08-41d4-8f20-2a19d0a836ae', 'a8cdf44d-7b74-4440-97db-4c2f1e158e2f', 4188.29, 'International', 'In'), ('569d7aeb-640e-40e7-ac10-56b347c3c463', 'a8cdf44d-7b74-4440-97db-4c2f1e158e2f', 1034.99, 'International', 'Out'), ('5636d3b7-c069-47d3-b2cd-fdd02e616bd7', 'a8cdf44d-7b74-4440-97db-4c2f1e158e2f', 303.22, 'Mobile', 'Out'), ('ec1aa530-c0ff-4bc4-9f44-9bffbad65109', 'a8cdf44d-7b74-4440-97db-4c2f1e158e2f', 503.42, 'Branch', 'Out')]\n",
      "[(0, 'TransactionID', 'TEXT', 0, None, 0), (1, 'AccountID', 'TEXT', 0, None, 0), (2, 'Amount', 'REAL', 0, None, 0), (3, 'TransactionChannel', 'TEXT', 0, None, 0), (4, 'TransactionType', 'TEXT', 0, None, 0)]\n"
     ]
    }
   ],
   "source": [
    "check_table(query_select_accounts, query_schema_accounts)\n",
    "check_table(query_select_cards, query_schema_cards)\n",
    "check_table(query_select_customers, query_schema_customers)\n",
    "check_table(query_select_loans, query_schema_loans)\n",
    "check_table(query_select_transactions, query_schema_transactions)"
   ]
  },
  {
   "cell_type": "code",
   "execution_count": null,
   "metadata": {},
   "outputs": [],
   "source": [
    "# **10. Xu hướng trả nợ khoản vay theo thời gian (nếu có dữ liệu trả nợ):** Chuẩn bị dữ liệu cho biểu đồ đường hiển thị tổng số tiền trả nợ theo thời gian."
   ]
  }
 ],
 "metadata": {
  "kernelspec": {
   "display_name": ".venv",
   "language": "python",
   "name": "python3"
  },
  "language_info": {
   "codemirror_mode": {
    "name": "ipython",
    "version": 3
   },
   "file_extension": ".py",
   "mimetype": "text/x-python",
   "name": "python",
   "nbconvert_exporter": "python",
   "pygments_lexer": "ipython3",
   "version": "3.10.14"
  }
 },
 "nbformat": 4,
 "nbformat_minor": 2
}
